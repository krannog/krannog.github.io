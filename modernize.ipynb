{
 "cells": [
  {
   "cell_type": "code",
   "execution_count": 3,
   "metadata": {},
   "outputs": [],
   "source": [
    "import io\n",
    "import shutil\n",
    "import os\n",
    "\n",
    "# this file should be placed in the directory above the krannog site\n",
    "# create a copy of the whole site, in case something goes wrong\n",
    "# so in the directory of this file, you have two copies of the site: read one and write in the other one\n",
    "# this is also useful because we're only going to replace html files, so all other files should be there already!\n",
    "\n",
    "COPYkrannog = \"/COPYkrannog.github.io\" # read this\n",
    "krannog = \"krannog.github.io/\" # write into this\n",
    "\n",
    "start = 54 # the length of the path: from the user's root until the end of the github.io thing"
   ]
  },
  {
   "cell_type": "code",
   "execution_count": 24,
   "metadata": {},
   "outputs": [],
   "source": [
    "def changeEncoding():\n",
    "\n",
    "    mypath = os.getcwd() + COPYkrannog \n",
    "    for root, dirs, files in os.walk(mypath, topdown=False):\n",
    "        for name in files:\n",
    "            if name[-4:] == 'html': \n",
    "                file_path_ansi = os.path.join(root, name);        \n",
    "                file_path_utf8 = krannog + os.path.join(root, name)[start:];\n",
    "                #print(file_path_utf8)\n",
    "                with io.open(file_path_ansi, encoding='windows-1251', errors='ignore') as source:\n",
    "                    with io.open(file_path_utf8, mode='w', encoding='utf-16') as target:\n",
    "                        shutil.copyfileobj(source, target)\n",
    "    \n",
    "    print('Encoding changed!')"
   ]
  },
  {
   "cell_type": "code",
   "execution_count": 34,
   "metadata": {},
   "outputs": [],
   "source": [
    "def replaceBesaba():\n",
    "    mypath = os.getcwd() + COPYkrannog\n",
    "    \n",
    "    for root, dirs, files in os.walk(mypath, topdown=False):\n",
    "        for name in files:\n",
    "            if name[-4:] == 'html' and name != 'welcome.html': # something's wrong with welcome.html, just replace manually\n",
    "                file_old = os.path.join(root, name);        \n",
    "                file_new = krannog + os.path.join(root, name)[start:];\n",
    "    \n",
    "                with io.open(file_old, encoding='utf-16', errors='ignore') as source:\n",
    "                    with io.open(file_new, mode='w', encoding='utf-16') as target:\n",
    "                        length = io.TextIOWrapper.write(target, io.TextIOWrapper.read(source).replace('http://krannog.besaba.com', ''))\n",
    "    print('Afwul links replaced!')"
   ]
  },
  {
   "cell_type": "code",
   "execution_count": null,
   "metadata": {},
   "outputs": [],
   "source": []
  },
  {
   "cell_type": "code",
   "execution_count": null,
   "metadata": {},
   "outputs": [],
   "source": []
  },
  {
   "cell_type": "code",
   "execution_count": null,
   "metadata": {},
   "outputs": [],
   "source": [
    "changeEncoding()"
   ]
  },
  {
   "cell_type": "code",
   "execution_count": 35,
   "metadata": {},
   "outputs": [
    {
     "name": "stdout",
     "output_type": "stream",
     "text": [
      "Afwul links replaced!\n"
     ]
    }
   ],
   "source": [
    "replaceBesaba()"
   ]
  },
  {
   "cell_type": "code",
   "execution_count": null,
   "metadata": {},
   "outputs": [],
   "source": []
  }
 ],
 "metadata": {
  "kernelspec": {
   "display_name": "Python 3",
   "language": "python",
   "name": "python3"
  },
  "language_info": {
   "codemirror_mode": {
    "name": "ipython",
    "version": 3
   },
   "file_extension": ".py",
   "mimetype": "text/x-python",
   "name": "python",
   "nbconvert_exporter": "python",
   "pygments_lexer": "ipython3",
   "version": "3.7.1"
  }
 },
 "nbformat": 4,
 "nbformat_minor": 2
}
