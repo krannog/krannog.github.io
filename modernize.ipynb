{
 "cells": [
  {
   "cell_type": "code",
   "execution_count": 35,
   "metadata": {},
   "outputs": [],
   "source": [
    "import io\n",
    "import shutil\n",
    "import os\n",
    "\n",
    "# this file should be placed in the directory above the krannog site\n",
    "# create a copy of the whole site, in case something goes wrong\n",
    "# so in the directory of this file, you have two copies of the site: read one and write in the other one\n",
    "# this is also useful because we're only going to replace html files, so all other files should be there already!\n",
    "\n",
    "COPYkrannog = \"/27_copy/\" # read this\n",
    "krannog = \"27/\" # write into this\n",
    "\n",
    "start = 60 # the length of the path: from the user's root until the end of the github.io thing"
   ]
  },
  {
   "cell_type": "code",
   "execution_count": 36,
   "metadata": {},
   "outputs": [],
   "source": [
    "def changeEncoding():\n",
    "\n",
    "    mypath = os.getcwd() + COPYkrannog \n",
    "    for root, dirs, files in os.walk(mypath, topdown=False):\n",
    "        for name in files:\n",
    "            if name[-4:] == 'html': \n",
    "                file_path_ansi = os.path.join(root, name);        \n",
    "                file_path_utf8 = krannog + os.path.join(root, name)[start:];\n",
    "                #print(file_path_utf8)\n",
    "                with io.open(file_path_ansi, encoding='windows-1251', errors='ignore') as source:\n",
    "                    with io.open(file_path_utf8, mode='w', encoding='utf-16') as target:\n",
    "                        shutil.copyfileobj(source, target)\n",
    "    \n",
    "    print('Encoding changed!')"
   ]
  },
  {
   "cell_type": "code",
   "execution_count": 55,
   "metadata": {},
   "outputs": [],
   "source": [
    "def replaceCSS():\n",
    "    mypath = os.getcwd() + COPYkrannog\n",
    "    \n",
    "    for root, dirs, files in os.walk(mypath, topdown=False):\n",
    "        for name in files:\n",
    "            if name[-4:] == 'html': \n",
    "                file_old = os.path.join(root, name);        \n",
    "                file_new = krannog + os.path.join(root, name)[start:];\n",
    "    \n",
    "                open(file_new, 'wb').write(codecs.open(file_new, 'r', 'utf-16').read().replace('http://argemona.ru/files/style/site/style.css?v=10', 'style.css').encode('utf-16'))\n",
    "    print('CSS replaced!')"
   ]
  },
  {
   "cell_type": "code",
   "execution_count": null,
   "metadata": {},
   "outputs": [],
   "source": []
  },
  {
   "cell_type": "code",
   "execution_count": null,
   "metadata": {},
   "outputs": [],
   "source": []
  },
  {
   "cell_type": "code",
   "execution_count": 38,
   "metadata": {},
   "outputs": [
    {
     "name": "stdout",
     "output_type": "stream",
     "text": [
      "Encoding changed!\n"
     ]
    }
   ],
   "source": [
    "changeEncoding()"
   ]
  },
  {
   "cell_type": "code",
   "execution_count": 56,
   "metadata": {},
   "outputs": [
    {
     "name": "stdout",
     "output_type": "stream",
     "text": [
      "CSS replaced!\n"
     ]
    }
   ],
   "source": [
    "replaceCSS()"
   ]
  },
  {
   "cell_type": "code",
   "execution_count": 53,
   "metadata": {},
   "outputs": [
    {
     "data": {
      "text/plain": [
       "71278"
      ]
     },
     "execution_count": 53,
     "metadata": {},
     "output_type": "execute_result"
    }
   ],
   "source": [
    "import codecs\n",
    "open('test.html', 'wb').write(codecs.open('27/14.html', 'r', 'utf-16').read().replace('http://argemona.ru/files/style/site/style.css?v=10', 'style.css').encode('utf-16'))"
   ]
  },
  {
   "cell_type": "code",
   "execution_count": null,
   "metadata": {},
   "outputs": [],
   "source": []
  }
 ],
 "metadata": {
  "kernelspec": {
   "display_name": "Python 3",
   "language": "python",
   "name": "python3"
  },
  "language_info": {
   "codemirror_mode": {
    "name": "ipython",
    "version": 3
   },
   "file_extension": ".py",
   "mimetype": "text/x-python",
   "name": "python",
   "nbconvert_exporter": "python",
   "pygments_lexer": "ipython3",
   "version": "3.7.6"
  }
 },
 "nbformat": 4,
 "nbformat_minor": 2
}
