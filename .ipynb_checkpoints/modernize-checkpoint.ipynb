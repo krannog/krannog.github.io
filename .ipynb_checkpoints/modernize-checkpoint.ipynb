{
 "cells": [
  {
   "cell_type": "code",
   "execution_count": 5,
   "metadata": {},
   "outputs": [],
   "source": [
    "import io\n",
    "import shutil\n",
    "import os\n",
    "import codecs\n",
    "\n",
    "# this file should be placed in the directory above the krannog site\n",
    "# create a copy of the whole site, in case something goes wrong\n",
    "# so in the directory of this file, you have two copies of the site: read one and write in the other one\n",
    "# this is also useful because we're only going to replace html files, so all other files should be there already!\n",
    "\n",
    "COPYkrannog = \"/28_copy/\" # read this\n",
    "krannog = \"28/\" # write into this\n",
    "\n",
    "start = 60 # the length of the path: from the user's root until the end of the github.io thing"
   ]
  },
  {
   "cell_type": "code",
   "execution_count": 6,
   "metadata": {},
   "outputs": [],
   "source": [
    "def changeEncoding():\n",
    "\n",
    "    mypath = os.getcwd() + COPYkrannog \n",
    "    for root, dirs, files in os.walk(mypath, topdown=False):\n",
    "        for name in files:\n",
    "            if name[-4:] == 'html': \n",
    "                file_path_ansi = os.path.join(root, name);        \n",
    "                file_path_utf8 = krannog + os.path.join(root, name)[start:];\n",
    "                #print(file_path_utf8)\n",
    "                with io.open(file_path_ansi, encoding='windows-1251', errors='ignore') as source:\n",
    "                    with io.open(file_path_utf8, mode='w', encoding='utf-16') as target:\n",
    "                        shutil.copyfileobj(source, target)\n",
    "    \n",
    "    print('Encoding changed!')"
   ]
  },
  {
   "cell_type": "code",
   "execution_count": 13,
   "metadata": {},
   "outputs": [],
   "source": [
    "def replaceCSS():\n",
    "#    mypath = os.getcwd() + COPYkrannog\n",
    "    mypath = os.getcwd() + '/' + krannog\n",
    "    \n",
    "    for root, dirs, files in os.walk(mypath, topdown=False):\n",
    "        for name in files:\n",
    "            if name[-4:] == 'html': \n",
    "                file_old = os.path.join(root, name);        \n",
    "                #file_new = krannog + os.path.join(root, name)[start:];\n",
    "                f = codecs.open(file_old, 'r', 'utf-16').read()\n",
    "                f = f.replace('http://argemona.ru/files/style/site/style.css?v=10', '../style.css')\n",
    "                f = f.replace('http://argemona.ru/files/js/form/jquery.css', '../jquery.css')\n",
    "                f = f.replace('http://argemona.ru/files/js/mistake/mistakes.css', '../mistakes.css')\n",
    "                f = f.replace('http://argemona.ru/files/js/ajax.js?v=6', '../ajax.js')\n",
    "                f = f.replace('http://argemona.ru/files/js/algerian_400.font.js', '../algerian_400.font.js')\n",
    "                f = f.replace('https://www.google.com/recaptcha/api.js', '../api.js')\n",
    "                f = f.replace('http://argemona.ru/files/js/cufon-yui.js', '../cufon-yui.js')\n",
    "                f = f.replace('http://argemona.ru/files/js/form/demo.js', '../demo.js')\n",
    "                f = f.replace('http://argemona.ru/files/js/form/jquery_002.js', '../jquery_002.js')\n",
    "                f = f.replace('http://argemona.ru/files/js/jquery.js', '../jquery.js')\n",
    "                f = f.replace('http://argemona.ru/widget/info/marks.js?v=160719833196', '../marks.js')\n",
    "                f = f.replace('http://argemona.ru/files/js/mistake/mistakes.js', '../mistakes.js')\n",
    "#                open(file_new, 'wb').write(f.encode('utf-16'))\n",
    "                open(file_old, 'wb').write(f.encode('utf-16'))\n",
    "    print('CSS replaced!')"
   ]
  },
  {
   "cell_type": "code",
   "execution_count": null,
   "metadata": {},
   "outputs": [],
   "source": []
  },
  {
   "cell_type": "code",
   "execution_count": null,
   "metadata": {},
   "outputs": [],
   "source": []
  },
  {
   "cell_type": "code",
   "execution_count": 9,
   "metadata": {},
   "outputs": [
    {
     "name": "stdout",
     "output_type": "stream",
     "text": [
      "Encoding changed!\n"
     ]
    }
   ],
   "source": [
    "changeEncoding()"
   ]
  },
  {
   "cell_type": "code",
   "execution_count": 25,
   "metadata": {},
   "outputs": [
    {
     "name": "stdout",
     "output_type": "stream",
     "text": [
      "CSS replaced!\n"
     ]
    }
   ],
   "source": [
    "replaceCSS()"
   ]
  },
  {
   "cell_type": "code",
   "execution_count": 26,
   "metadata": {},
   "outputs": [],
   "source": [
    "# all css and js files should be also copied in the /trim/ directory!"
   ]
  },
  {
   "cell_type": "code",
   "execution_count": null,
   "metadata": {},
   "outputs": [],
   "source": []
  }
 ],
 "metadata": {
  "kernelspec": {
   "display_name": "Python 3",
   "language": "python",
   "name": "python3"
  },
  "language_info": {
   "codemirror_mode": {
    "name": "ipython",
    "version": 3
   },
   "file_extension": ".py",
   "mimetype": "text/x-python",
   "name": "python",
   "nbconvert_exporter": "python",
   "pygments_lexer": "ipython3",
   "version": "3.7.6"
  }
 },
 "nbformat": 4,
 "nbformat_minor": 2
}
